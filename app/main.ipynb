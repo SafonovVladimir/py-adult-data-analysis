{
 "cells": [
  {
   "cell_type": "code",
   "execution_count": 3,
   "outputs": [],
   "source": [
    "import numpy as np\n",
    "import pandas as pd"
   ],
   "metadata": {
    "collapsed": false,
    "pycharm": {
     "name": "#%%\n"
    }
   }
  },
  {
   "cell_type": "markdown",
   "source": [
    "# Task 0\n",
    "Read the dataset from csv file & perform data cleaning - remove all rows, which contains `?` in some columns.\n",
    "Also check for data correctness (salary & salary $K)."
   ],
   "metadata": {
    "collapsed": false,
    "pycharm": {
     "name": "#%% md\n"
    }
   }
  },
  {
   "cell_type": "code",
   "execution_count": 55,
   "outputs": [],
   "source": [
    "df = pd.read_csv(\"../data/adult.csv\")\n",
    "df = df[~df.isin([\"?\"]).any(axis=1)]"
   ],
   "metadata": {
    "collapsed": false,
    "pycharm": {
     "name": "#%%\n"
    }
   }
  },
  {
   "cell_type": "markdown",
   "source": [
    "# Task 1\n",
    "Print the count of men and women in the dataset."
   ],
   "metadata": {
    "collapsed": false,
    "pycharm": {
     "name": "#%% md\n"
    }
   }
  },
  {
   "cell_type": "code",
   "execution_count": 56,
   "outputs": [
    {
     "name": "stdout",
     "output_type": "stream",
     "text": [
      "Count of men and women in the dataset:\n",
      "sex\n",
      "Male      20380\n",
      "Female     9782\n",
      "Name: count, dtype: int64\n"
     ]
    }
   ],
   "source": [
    "gender_count = df[\"sex\"].value_counts()\n",
    "print(\"Count of men and women in the dataset:\")\n",
    "print(gender_count)"
   ],
   "metadata": {
    "collapsed": false,
    "pycharm": {
     "name": "#%%\n"
    }
   }
  },
  {
   "cell_type": "markdown",
   "source": [
    "# Task 2\n",
    "Find the average age of men in dataset"
   ],
   "metadata": {
    "collapsed": false,
    "pycharm": {
     "name": "#%% md\n"
    }
   }
  },
  {
   "cell_type": "code",
   "execution_count": 57,
   "outputs": [
    {
     "name": "stdout",
     "output_type": "stream",
     "text": [
      "Average age of men in the dataset: 39.18\n"
     ]
    }
   ],
   "source": [
    "avg_age_men = df[df[\"sex\"] == \"Male\"][\"age\"].mean()\n",
    "print(\"Average age of men in the dataset:\", round(avg_age_men, 2))"
   ],
   "metadata": {
    "collapsed": false,
    "pycharm": {
     "name": "#%%\n"
    }
   }
  },
  {
   "cell_type": "markdown",
   "source": [
    "# Task 3\n",
    "Get the percentage of people from Poland (native-country)"
   ],
   "metadata": {
    "collapsed": false,
    "pycharm": {
     "name": "#%% md\n"
    }
   }
  },
  {
   "cell_type": "code",
   "execution_count": 38,
   "outputs": [
    {
     "name": "stdout",
     "output_type": "stream",
     "text": [
      "Percentage of people from Poland in the dataset: 0.19 %\n"
     ]
    }
   ],
   "source": [
    "poland_count = len(df[df[\"native-country\"] == \"Poland\"])\n",
    "total_count = len(df)\n",
    "percentage_poland = (poland_count/total_count)*100\n",
    "print(\"Percentage of people from Poland in the dataset:\", round(percentage_poland, 2), \"%\")"
   ],
   "metadata": {
    "collapsed": false,
    "pycharm": {
     "name": "#%%\n"
    }
   }
  },
  {
   "cell_type": "markdown",
   "source": [
    "# Task 4\n",
    "Get the mean and standard deviation of the age for people who earn > 50K per year. After this, get it for those who earn <= 50K."
   ],
   "metadata": {
    "collapsed": false,
    "pycharm": {
     "name": "#%% md\n"
    }
   }
  },
  {
   "cell_type": "code",
   "execution_count": 39,
   "outputs": [
    {
     "name": "stdout",
     "output_type": "stream",
     "text": [
      "Mean and standard deviation of age for people who earn more than 50K per year:\n",
      "Mean: 43.96\n",
      "Standard deviation: 10.27\n",
      "Mean and standard deviation of age for people who earn less than or equal to 50K per year:\n",
      "Mean: 36.61\n",
      "Standard deviation: 13.46\n"
     ]
    }
   ],
   "source": [
    "grouped = df.groupby(\"salary\")[\"age\"].agg([\"mean\", \"std\"])\n",
    "\n",
    "print(\"Mean and standard deviation of age for people who earn more than 50K per year:\")\n",
    "print(\"Mean:\", round(grouped.loc[\">50K\", \"mean\"], 2))\n",
    "print(\"Standard deviation:\", round(grouped.loc[\">50K\", \"std\"], 2))\n",
    "\n",
    "print(\"Mean and standard deviation of age for people who earn less than or equal to 50K per year:\")\n",
    "print(\"Mean:\", round(grouped.loc[\"<=50K\", \"mean\"], 2))\n",
    "print(\"Standard deviation:\", round(grouped.loc[\"<=50K\", \"std\"], 2))"
   ],
   "metadata": {
    "collapsed": false,
    "pycharm": {
     "name": "#%%\n"
    }
   }
  },
  {
   "cell_type": "markdown",
   "source": [
    "# Task 5\n",
    "Check, if there are some people without higher education (education: Bachelors, Prof-school, Assoc-acdm, Assoc-voc, Masters, Doctorate), but with > 50K salary"
   ],
   "metadata": {
    "collapsed": false,
    "pycharm": {
     "name": "#%% md\n"
    }
   }
  },
  {
   "cell_type": "code",
   "execution_count": 40,
   "outputs": [
    {
     "name": "stdout",
     "output_type": "stream",
     "text": [
      "Number of people without higher education, but with > 50K salary: 3178\n"
     ]
    }
   ],
   "source": [
    "filtered = df[(~df[\"education\"].isin([\"Bachelors\", \"Prof-school\", \"Assoc-acdm\", \"Assoc-voc\", \"Masters\", \"Doctorate\"])) & (df[\"salary\"] == \">50K\")]\n",
    "\n",
    "print(\"Number of people without higher education, but with > 50K salary:\", len(filtered))"
   ],
   "metadata": {
    "collapsed": false,
    "pycharm": {
     "name": "#%%\n"
    }
   }
  },
  {
   "cell_type": "markdown",
   "source": [
    "# Task 6\n",
    "Get the statistics of age for each type of education. Use `groupby` and `describe` for this."
   ],
   "metadata": {
    "collapsed": false,
    "pycharm": {
     "name": "#%% md\n"
    }
   }
  },
  {
   "cell_type": "code",
   "execution_count": 41,
   "outputs": [
    {
     "name": "stdout",
     "output_type": "stream",
     "text": [
      "               count       mean        std   min   25%   50%   75%   max\n",
      "education                                                               \n",
      "10th           820.0  37.897561  16.225795  17.0  23.0  36.0  52.0  90.0\n",
      "11th          1048.0  32.363550  15.089307  17.0  18.0  28.5  43.0  90.0\n",
      "12th           377.0  32.013263  14.373710  17.0  19.0  28.0  41.0  79.0\n",
      "1st-4th        151.0  44.622517  14.929051  19.0  33.0  44.0  56.0  81.0\n",
      "5th-6th        288.0  41.649306  14.754622  17.0  28.0  41.0  53.0  82.0\n",
      "7th-8th        557.0  47.631957  15.737479  17.0  34.0  49.0  60.0  90.0\n",
      "9th            455.0  40.303297  15.335754  17.0  28.0  38.0  53.0  90.0\n",
      "Assoc-acdm    1008.0  37.286706  10.509755  19.0  29.0  36.0  44.0  90.0\n",
      "Assoc-voc     1307.0  38.246366  11.181253  19.0  30.0  37.0  45.0  84.0\n",
      "Bachelors     5044.0  38.641554  11.577566  19.0  29.0  37.0  46.0  90.0\n",
      "Doctorate      375.0  47.130667  11.471727  24.0  39.0  47.0  54.0  80.0\n",
      "HS-grad       9840.0  38.640955  13.067730  17.0  28.0  37.0  48.0  90.0\n",
      "Masters       1627.0  43.740012  10.735356  18.0  36.0  43.0  50.0  90.0\n",
      "Preschool       45.0  41.288889  15.175672  19.0  30.0  40.0  53.0  75.0\n",
      "Prof-school    542.0  44.249077  11.428098  25.0  36.0  43.0  50.0  90.0\n",
      "Some-college  6678.0  36.135370  13.073528  17.0  25.0  35.0  45.0  90.0\n"
     ]
    }
   ],
   "source": [
    "grouped = df.groupby(\"education\")[\"age\"].describe()\n",
    "print(grouped)"
   ],
   "metadata": {
    "collapsed": false,
    "pycharm": {
     "name": "#%%\n"
    }
   }
  },
  {
   "cell_type": "markdown",
   "source": [
    "# Task 7\n",
    "Compare the married and non-married men salaries. Who earns more? (>50K or <=50K)\n",
    "Married men are those, whom `marital-status` starts with \"Married\". Others are not."
   ],
   "metadata": {
    "collapsed": false,
    "pycharm": {
     "name": "#%% md\n"
    }
   }
  },
  {
   "cell_type": "code",
   "execution_count": 58,
   "outputs": [
    {
     "name": "stdout",
     "output_type": "stream",
     "text": [
      "Married men's salaries:\n",
      "salary\n",
      "<=50K     31.927538\n",
      ">50K     200.609820\n",
      "Name: salary K$, dtype: float64\n",
      "\n",
      "Non-married men's salaries:\n",
      "salary\n",
      "<=50K     32.091316\n",
      ">50K     196.010401\n",
      "Name: salary K$, dtype: float64\n"
     ]
    }
   ],
   "source": [
    "married_men = df[(df[\"sex\"] == \"Male\") & (df[\"marital-status\"].str.startswith(\"Married\"))]\n",
    "nonmarried_men = df[(df[\"sex\"] == \"Male\") & (~df[\"marital-status\"].str.startswith(\"Married\"))]\n",
    "\n",
    "married_men_salary = married_men.groupby(\"salary\")[\"salary K$\"].mean()\n",
    "nonmarried_men_salary = nonmarried_men.groupby(\"salary\")[\"salary K$\"].mean()\n",
    "\n",
    "print(\"Married men's salaries:\")\n",
    "print(married_men_salary)\n",
    "print(\"\\nNon-married men's salaries:\")\n",
    "print(nonmarried_men_salary)"
   ],
   "metadata": {
    "collapsed": false,
    "pycharm": {
     "name": "#%%\n"
    }
   }
  },
  {
   "cell_type": "markdown",
   "source": [
    "# Task 8\n",
    "Get the max hours per week some person works. How many people works the same amount of hours per week?"
   ],
   "metadata": {
    "collapsed": false,
    "pycharm": {
     "name": "#%% md\n"
    }
   }
  },
  {
   "cell_type": "code",
   "execution_count": 59,
   "outputs": [
    {
     "name": "stdout",
     "output_type": "stream",
     "text": [
      "Maximum hours worked per week: 99\n",
      "There are 78 person have 99 hours per week\n"
     ]
    }
   ],
   "source": [
    "max_hours = df[\"hours-per-week\"].max()\n",
    "print(\"Maximum hours worked per week:\", max_hours)\n",
    "max_hours_per_week = df[\"hours-per-week\"].max()\n",
    "print(\"There are\", df[df[\"hours-per-week\"] == max_hours_per_week].shape[0], \"person have\", max_hours_per_week, \"hours per week\")"
   ],
   "metadata": {
    "collapsed": false,
    "pycharm": {
     "name": "#%%\n"
    }
   }
  },
  {
   "cell_type": "markdown",
   "source": [
    "# Task 9\n",
    "Analyze the correlation between data in dataset. Understand connected fields in it and print highlight thier connection."
   ],
   "metadata": {
    "collapsed": false,
    "pycharm": {
     "name": "#%% md\n"
    }
   }
  },
  {
   "cell_type": "code",
   "execution_count": 53,
   "outputs": [
    {
     "ename": "ValueError",
     "evalue": "could not convert string to float: 'State-gov'",
     "output_type": "error",
     "traceback": [
      "\u001B[1;31m---------------------------------------------------------------------------\u001B[0m",
      "\u001B[1;31mValueError\u001B[0m                                Traceback (most recent call last)",
      "Cell \u001B[1;32mIn[53], line 1\u001B[0m\n\u001B[1;32m----> 1\u001B[0m \u001B[38;5;28mprint\u001B[39m(\u001B[43mdf\u001B[49m\u001B[38;5;241;43m.\u001B[39;49m\u001B[43mcorr\u001B[49m\u001B[43m(\u001B[49m\u001B[43m)\u001B[49m)\n",
      "File \u001B[1;32m~\\PycharmProjects\\pythonProject\\venv\\lib\\site-packages\\pandas\\core\\frame.py:10059\u001B[0m, in \u001B[0;36mcorr\u001B[1;34m(self, method, min_periods, numeric_only)\u001B[0m\n\u001B[0;32m  10056\u001B[0m data \u001B[38;5;241m=\u001B[39m _get_data()\n\u001B[0;32m  10057\u001B[0m labels \u001B[38;5;241m=\u001B[39m data\u001B[38;5;241m.\u001B[39m_get_agg_axis(axis)\n\u001B[1;32m> 10059\u001B[0m values \u001B[38;5;241m=\u001B[39m data\u001B[38;5;241m.\u001B[39mvalues\n\u001B[0;32m  10060\u001B[0m \u001B[38;5;28;01mwith\u001B[39;00m np\u001B[38;5;241m.\u001B[39merrstate(\u001B[38;5;28mall\u001B[39m\u001B[38;5;241m=\u001B[39m\u001B[38;5;124m\"\u001B[39m\u001B[38;5;124mignore\u001B[39m\u001B[38;5;124m\"\u001B[39m):\n\u001B[0;32m  10061\u001B[0m     result \u001B[38;5;241m=\u001B[39m func(values)\n",
      "File \u001B[1;32m~\\PycharmProjects\\pythonProject\\venv\\lib\\site-packages\\pandas\\core\\frame.py:1838\u001B[0m, in \u001B[0;36mto_numpy\u001B[1;34m(self, dtype, copy, na_value)\u001B[0m\n\u001B[0;32m   1762\u001B[0m \u001B[38;5;28;01mdef\u001B[39;00m \u001B[38;5;21mto_dict\u001B[39m(\u001B[38;5;28mself\u001B[39m, orient: \u001B[38;5;28mstr\u001B[39m \u001B[38;5;241m=\u001B[39m \u001B[38;5;124m\"\u001B[39m\u001B[38;5;124mdict\u001B[39m\u001B[38;5;124m\"\u001B[39m, into\u001B[38;5;241m=\u001B[39m\u001B[38;5;28mdict\u001B[39m):\n\u001B[0;32m   1763\u001B[0m \u001B[38;5;250m    \u001B[39m\u001B[38;5;124;03m\"\"\"\u001B[39;00m\n\u001B[0;32m   1764\u001B[0m \u001B[38;5;124;03m    Convert the DataFrame to a dictionary.\u001B[39;00m\n\u001B[0;32m   1765\u001B[0m \n\u001B[0;32m   1766\u001B[0m \u001B[38;5;124;03m    The type of the key-value pairs can be customized with the parameters\u001B[39;00m\n\u001B[0;32m   1767\u001B[0m \u001B[38;5;124;03m    (see below).\u001B[39;00m\n\u001B[0;32m   1768\u001B[0m \n\u001B[0;32m   1769\u001B[0m \u001B[38;5;124;03m    Parameters\u001B[39;00m\n\u001B[0;32m   1770\u001B[0m \u001B[38;5;124;03m    ----------\u001B[39;00m\n\u001B[0;32m   1771\u001B[0m \u001B[38;5;124;03m    orient : str {'dict', 'list', 'series', 'split', 'records', 'index'}\u001B[39;00m\n\u001B[0;32m   1772\u001B[0m \u001B[38;5;124;03m        Determines the type of the values of the dictionary.\u001B[39;00m\n\u001B[0;32m   1773\u001B[0m \n\u001B[0;32m   1774\u001B[0m \u001B[38;5;124;03m        - 'dict' (default) : dict like {column -> {index -> value}}\u001B[39;00m\n\u001B[0;32m   1775\u001B[0m \u001B[38;5;124;03m        - 'list' : dict like {column -> [values]}\u001B[39;00m\n\u001B[0;32m   1776\u001B[0m \u001B[38;5;124;03m        - 'series' : dict like {column -> Series(values)}\u001B[39;00m\n\u001B[0;32m   1777\u001B[0m \u001B[38;5;124;03m        - 'split' : dict like\u001B[39;00m\n\u001B[0;32m   1778\u001B[0m \u001B[38;5;124;03m          {'index' -> [index], 'columns' -> [columns], 'data' -> [values]}\u001B[39;00m\n\u001B[0;32m   1779\u001B[0m \u001B[38;5;124;03m        - 'tight' : dict like\u001B[39;00m\n\u001B[0;32m   1780\u001B[0m \u001B[38;5;124;03m          {'index' -> [index], 'columns' -> [columns], 'data' -> [values],\u001B[39;00m\n\u001B[0;32m   1781\u001B[0m \u001B[38;5;124;03m          'index_names' -> [index.names], 'column_names' -> [column.names]}\u001B[39;00m\n\u001B[0;32m   1782\u001B[0m \u001B[38;5;124;03m        - 'records' : list like\u001B[39;00m\n\u001B[0;32m   1783\u001B[0m \u001B[38;5;124;03m          [{column -> value}, ... , {column -> value}]\u001B[39;00m\n\u001B[0;32m   1784\u001B[0m \u001B[38;5;124;03m        - 'index' : dict like {index -> {column -> value}}\u001B[39;00m\n\u001B[0;32m   1785\u001B[0m \n\u001B[0;32m   1786\u001B[0m \u001B[38;5;124;03m        Abbreviations are allowed. `s` indicates `series` and `sp`\u001B[39;00m\n\u001B[0;32m   1787\u001B[0m \u001B[38;5;124;03m        indicates `split`.\u001B[39;00m\n\u001B[0;32m   1788\u001B[0m \n\u001B[0;32m   1789\u001B[0m \u001B[38;5;124;03m        .. versionadded:: 1.4.0\u001B[39;00m\n\u001B[0;32m   1790\u001B[0m \u001B[38;5;124;03m            'tight' as an allowed value for the ``orient`` argument\u001B[39;00m\n\u001B[0;32m   1791\u001B[0m \n\u001B[0;32m   1792\u001B[0m \u001B[38;5;124;03m    into : class, default dict\u001B[39;00m\n\u001B[0;32m   1793\u001B[0m \u001B[38;5;124;03m        The collections.abc.Mapping subclass used for all Mappings\u001B[39;00m\n\u001B[0;32m   1794\u001B[0m \u001B[38;5;124;03m        in the return value.  Can be the actual class or an empty\u001B[39;00m\n\u001B[0;32m   1795\u001B[0m \u001B[38;5;124;03m        instance of the mapping type you want.  If you want a\u001B[39;00m\n\u001B[0;32m   1796\u001B[0m \u001B[38;5;124;03m        collections.defaultdict, you must pass it initialized.\u001B[39;00m\n\u001B[0;32m   1797\u001B[0m \n\u001B[0;32m   1798\u001B[0m \u001B[38;5;124;03m    Returns\u001B[39;00m\n\u001B[0;32m   1799\u001B[0m \u001B[38;5;124;03m    -------\u001B[39;00m\n\u001B[0;32m   1800\u001B[0m \u001B[38;5;124;03m    dict, list or collections.abc.Mapping\u001B[39;00m\n\u001B[0;32m   1801\u001B[0m \u001B[38;5;124;03m        Return a collections.abc.Mapping object representing the DataFrame.\u001B[39;00m\n\u001B[0;32m   1802\u001B[0m \u001B[38;5;124;03m        The resulting transformation depends on the `orient` parameter.\u001B[39;00m\n\u001B[0;32m   1803\u001B[0m \n\u001B[0;32m   1804\u001B[0m \u001B[38;5;124;03m    See Also\u001B[39;00m\n\u001B[0;32m   1805\u001B[0m \u001B[38;5;124;03m    --------\u001B[39;00m\n\u001B[0;32m   1806\u001B[0m \u001B[38;5;124;03m    DataFrame.from_dict: Create a DataFrame from a dictionary.\u001B[39;00m\n\u001B[0;32m   1807\u001B[0m \u001B[38;5;124;03m    DataFrame.to_json: Convert a DataFrame to JSON format.\u001B[39;00m\n\u001B[0;32m   1808\u001B[0m \n\u001B[0;32m   1809\u001B[0m \u001B[38;5;124;03m    Examples\u001B[39;00m\n\u001B[0;32m   1810\u001B[0m \u001B[38;5;124;03m    --------\u001B[39;00m\n\u001B[0;32m   1811\u001B[0m \u001B[38;5;124;03m    >>> df = pd.DataFrame({'col1': [1, 2],\u001B[39;00m\n\u001B[0;32m   1812\u001B[0m \u001B[38;5;124;03m    ...                    'col2': [0.5, 0.75]},\u001B[39;00m\n\u001B[0;32m   1813\u001B[0m \u001B[38;5;124;03m    ...                   index=['row1', 'row2'])\u001B[39;00m\n\u001B[0;32m   1814\u001B[0m \u001B[38;5;124;03m    >>> df\u001B[39;00m\n\u001B[0;32m   1815\u001B[0m \u001B[38;5;124;03m          col1  col2\u001B[39;00m\n\u001B[0;32m   1816\u001B[0m \u001B[38;5;124;03m    row1     1  0.50\u001B[39;00m\n\u001B[0;32m   1817\u001B[0m \u001B[38;5;124;03m    row2     2  0.75\u001B[39;00m\n\u001B[0;32m   1818\u001B[0m \u001B[38;5;124;03m    >>> df.to_dict()\u001B[39;00m\n\u001B[0;32m   1819\u001B[0m \u001B[38;5;124;03m    {'col1': {'row1': 1, 'row2': 2}, 'col2': {'row1': 0.5, 'row2': 0.75}}\u001B[39;00m\n\u001B[0;32m   1820\u001B[0m \n\u001B[0;32m   1821\u001B[0m \u001B[38;5;124;03m    You can specify the return orientation.\u001B[39;00m\n\u001B[0;32m   1822\u001B[0m \n\u001B[0;32m   1823\u001B[0m \u001B[38;5;124;03m    >>> df.to_dict('series')\u001B[39;00m\n\u001B[0;32m   1824\u001B[0m \u001B[38;5;124;03m    {'col1': row1    1\u001B[39;00m\n\u001B[0;32m   1825\u001B[0m \u001B[38;5;124;03m             row2    2\u001B[39;00m\n\u001B[0;32m   1826\u001B[0m \u001B[38;5;124;03m    Name: col1, dtype: int64,\u001B[39;00m\n\u001B[0;32m   1827\u001B[0m \u001B[38;5;124;03m    'col2': row1    0.50\u001B[39;00m\n\u001B[0;32m   1828\u001B[0m \u001B[38;5;124;03m            row2    0.75\u001B[39;00m\n\u001B[0;32m   1829\u001B[0m \u001B[38;5;124;03m    Name: col2, dtype: float64}\u001B[39;00m\n\u001B[0;32m   1830\u001B[0m \n\u001B[0;32m   1831\u001B[0m \u001B[38;5;124;03m    >>> df.to_dict('split')\u001B[39;00m\n\u001B[0;32m   1832\u001B[0m \u001B[38;5;124;03m    {'index': ['row1', 'row2'], 'columns': ['col1', 'col2'],\u001B[39;00m\n\u001B[0;32m   1833\u001B[0m \u001B[38;5;124;03m     'data': [[1, 0.5], [2, 0.75]]}\u001B[39;00m\n\u001B[0;32m   1834\u001B[0m \n\u001B[0;32m   1835\u001B[0m \u001B[38;5;124;03m    >>> df.to_dict('records')\u001B[39;00m\n\u001B[0;32m   1836\u001B[0m \u001B[38;5;124;03m    [{'col1': 1, 'col2': 0.5}, {'col1': 2, 'col2': 0.75}]\u001B[39;00m\n\u001B[0;32m   1837\u001B[0m \n\u001B[1;32m-> 1838\u001B[0m \u001B[38;5;124;03m    >>> df.to_dict('index')\u001B[39;00m\n\u001B[0;32m   1839\u001B[0m \u001B[38;5;124;03m    {'row1': {'col1': 1, 'col2': 0.5}, 'row2': {'col1': 2, 'col2': 0.75}}\u001B[39;00m\n\u001B[0;32m   1840\u001B[0m \n\u001B[0;32m   1841\u001B[0m \u001B[38;5;124;03m    >>> df.to_dict('tight')\u001B[39;00m\n\u001B[0;32m   1842\u001B[0m \u001B[38;5;124;03m    {'index': ['row1', 'row2'], 'columns': ['col1', 'col2'],\u001B[39;00m\n\u001B[0;32m   1843\u001B[0m \u001B[38;5;124;03m     'data': [[1, 0.5], [2, 0.75]], 'index_names': [None], 'column_names': [None]}\u001B[39;00m\n\u001B[0;32m   1844\u001B[0m \n\u001B[0;32m   1845\u001B[0m \u001B[38;5;124;03m    You can also specify the mapping type.\u001B[39;00m\n\u001B[0;32m   1846\u001B[0m \n\u001B[0;32m   1847\u001B[0m \u001B[38;5;124;03m    >>> from collections import OrderedDict, defaultdict\u001B[39;00m\n\u001B[0;32m   1848\u001B[0m \u001B[38;5;124;03m    >>> df.to_dict(into=OrderedDict)\u001B[39;00m\n\u001B[0;32m   1849\u001B[0m \u001B[38;5;124;03m    OrderedDict([('col1', OrderedDict([('row1', 1), ('row2', 2)])),\u001B[39;00m\n\u001B[0;32m   1850\u001B[0m \u001B[38;5;124;03m                 ('col2', OrderedDict([('row1', 0.5), ('row2', 0.75)]))])\u001B[39;00m\n\u001B[0;32m   1851\u001B[0m \n\u001B[0;32m   1852\u001B[0m \u001B[38;5;124;03m    If you want a `defaultdict`, you need to initialize it:\u001B[39;00m\n\u001B[0;32m   1853\u001B[0m \n\u001B[0;32m   1854\u001B[0m \u001B[38;5;124;03m    >>> dd = defaultdict(list)\u001B[39;00m\n\u001B[0;32m   1855\u001B[0m \u001B[38;5;124;03m    >>> df.to_dict('records', into=dd)\u001B[39;00m\n\u001B[0;32m   1856\u001B[0m \u001B[38;5;124;03m    [defaultdict(<class 'list'>, {'col1': 1, 'col2': 0.5}),\u001B[39;00m\n\u001B[0;32m   1857\u001B[0m \u001B[38;5;124;03m     defaultdict(<class 'list'>, {'col1': 2, 'col2': 0.75})]\u001B[39;00m\n\u001B[0;32m   1858\u001B[0m \u001B[38;5;124;03m    \"\"\"\u001B[39;00m\n\u001B[0;32m   1859\u001B[0m     \u001B[38;5;28;01mif\u001B[39;00m \u001B[38;5;129;01mnot\u001B[39;00m \u001B[38;5;28mself\u001B[39m\u001B[38;5;241m.\u001B[39mcolumns\u001B[38;5;241m.\u001B[39mis_unique:\n\u001B[0;32m   1860\u001B[0m         warnings\u001B[38;5;241m.\u001B[39mwarn(\n\u001B[0;32m   1861\u001B[0m             \u001B[38;5;124m\"\u001B[39m\u001B[38;5;124mDataFrame columns are not unique, some columns will be omitted.\u001B[39m\u001B[38;5;124m\"\u001B[39m,\n\u001B[0;32m   1862\u001B[0m             \u001B[38;5;167;01mUserWarning\u001B[39;00m,\n\u001B[0;32m   1863\u001B[0m             stacklevel\u001B[38;5;241m=\u001B[39mfind_stack_level(),\n\u001B[0;32m   1864\u001B[0m         )\n",
      "File \u001B[1;32m~\\PycharmProjects\\pythonProject\\venv\\lib\\site-packages\\pandas\\core\\internals\\managers.py:1732\u001B[0m, in \u001B[0;36mas_array\u001B[1;34m(self, dtype, copy, na_value)\u001B[0m\n\u001B[0;32m   1728\u001B[0m     \u001B[38;5;28;01massert\u001B[39;00m \u001B[38;5;28mlen\u001B[39m(axes) \u001B[38;5;241m==\u001B[39m \u001B[38;5;241m1\u001B[39m\n\u001B[0;32m   1729\u001B[0m     \u001B[38;5;28;01mreturn\u001B[39;00m \u001B[38;5;28mcls\u001B[39m(blocks[\u001B[38;5;241m0\u001B[39m], axes[\u001B[38;5;241m0\u001B[39m], verify_integrity\u001B[38;5;241m=\u001B[39m\u001B[38;5;28;01mFalse\u001B[39;00m)\n\u001B[0;32m   1731\u001B[0m \u001B[38;5;129m@classmethod\u001B[39m\n\u001B[1;32m-> 1732\u001B[0m \u001B[38;5;28;01mdef\u001B[39;00m \u001B[38;5;21mfrom_array\u001B[39m(\u001B[38;5;28mcls\u001B[39m, array: ArrayLike, index: Index) \u001B[38;5;241m-\u001B[39m\u001B[38;5;241m>\u001B[39m SingleBlockManager:\n\u001B[0;32m   1733\u001B[0m \u001B[38;5;250m    \u001B[39m\u001B[38;5;124;03m\"\"\"\u001B[39;00m\n\u001B[0;32m   1734\u001B[0m \u001B[38;5;124;03m    Constructor for if we have an array that is not yet a Block.\u001B[39;00m\n\u001B[0;32m   1735\u001B[0m \u001B[38;5;124;03m    \"\"\"\u001B[39;00m\n\u001B[0;32m   1736\u001B[0m     block \u001B[38;5;241m=\u001B[39m new_block(array, placement\u001B[38;5;241m=\u001B[39m\u001B[38;5;28mslice\u001B[39m(\u001B[38;5;241m0\u001B[39m, \u001B[38;5;28mlen\u001B[39m(index)), ndim\u001B[38;5;241m=\u001B[39m\u001B[38;5;241m1\u001B[39m)\n",
      "File \u001B[1;32m~\\PycharmProjects\\pythonProject\\venv\\lib\\site-packages\\pandas\\core\\internals\\managers.py:1794\u001B[0m, in \u001B[0;36m_interleave\u001B[1;34m(self, dtype, na_value)\u001B[0m\n\u001B[0;32m   1792\u001B[0m \u001B[38;5;129m@cache_readonly\u001B[39m\n\u001B[0;32m   1793\u001B[0m \u001B[38;5;28;01mdef\u001B[39;00m \u001B[38;5;21m_block\u001B[39m(\u001B[38;5;28mself\u001B[39m) \u001B[38;5;241m-\u001B[39m\u001B[38;5;241m>\u001B[39m Block:\n\u001B[1;32m-> 1794\u001B[0m     \u001B[38;5;28;01mreturn\u001B[39;00m \u001B[38;5;28mself\u001B[39m\u001B[38;5;241m.\u001B[39mblocks[\u001B[38;5;241m0\u001B[39m]\n",
      "\u001B[1;31mValueError\u001B[0m: could not convert string to float: 'State-gov'"
     ]
    }
   ],
   "source": [
    "print(df.corr())"
   ],
   "metadata": {
    "collapsed": false,
    "pycharm": {
     "name": "#%%\n"
    }
   }
  }
 ],
 "metadata": {
  "kernelspec": {
   "display_name": "Python 3",
   "language": "python",
   "name": "python3"
  },
  "language_info": {
   "codemirror_mode": {
    "name": "ipython",
    "version": 2
   },
   "file_extension": ".py",
   "mimetype": "text/x-python",
   "name": "python",
   "nbconvert_exporter": "python",
   "pygments_lexer": "ipython2",
   "version": "2.7.6"
  }
 },
 "nbformat": 4,
 "nbformat_minor": 0
}